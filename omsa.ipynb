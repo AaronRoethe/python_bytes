{
 "cells": [
  {
   "cell_type": "code",
   "execution_count": null,
   "metadata": {},
   "outputs": [],
   "source": [
    "def strcat_list(L):\n",
    "    assert type(L) is list\n",
    "    return ''.join(reversed(L))\n",
    "    \n",
    "# strcat_list(['abc', 'def', 'ghi']) == 'ghidefabc'"
   ]
  },
  {
   "cell_type": "code",
   "execution_count": null,
   "metadata": {},
   "outputs": [],
   "source": [
    "def ceiling_fraction(a, b):\n",
    "    mul = a / b\n",
    "    result = int(mul)\n",
    "    if result == mul:\n",
    "        return result\n",
    "    elif (mul > result):\n",
    "        return (result + 1)\n",
    "# ceiling_fraction(0.3, 0.1) == ceiling(2.9999999999999996) == 3"
   ]
  },
  {
   "cell_type": "code",
   "execution_count": null,
   "metadata": {},
   "outputs": [],
   "source": [
    "def count_word_lengths(s):\n",
    "    assert all([x.isalpha() or x == ' ' for x in s])\n",
    "    assert type(s) is str\n",
    "\n",
    "    list = []\n",
    "    ## if list not empty or only has spaces\n",
    "    if not s or s.isspace():\n",
    "        return list\n",
    "    ## split words by space count length of work append to new list\n",
    "    else:\n",
    "        words = s.split(' ')\n",
    "        for i in words:\n",
    "            list.append(len(i))\n",
    "        return list\n",
    "\n",
    "# count_word_lengths('zlvtqtvpjwohkvzsxxno bzp cabtcnibffyh lj') == [20, 3, 12, 2]"
   ]
  },
  {
   "cell_type": "code",
   "execution_count": null,
   "metadata": {},
   "outputs": [],
   "source": [
    "def compress_vector(x):\n",
    "    assert type(x) is list\n",
    "    d = {'inds': [], 'vals': []}\n",
    "\n",
    "    for index, i in enumerate(x):\n",
    "        if i != 0.0:\n",
    "            d['inds'].append(index)\n",
    "            d['vals'].append(i)\n",
    "    return d\n",
    "\n",
    "def decompress_vector(d, n=None):\n",
    "    # Checks the input\n",
    "    assert type(d) is dict and 'inds' in d and 'vals' in d, \"Not a dictionary or missing keys\"\n",
    "    assert type(d['inds']) is list and type(d['vals']) is list, \"Not a list\"\n",
    "    assert len(d['inds']) == len(d['vals']), \"Length mismatch\"\n",
    "    \n",
    "    ## Determine length of the full vector\n",
    "    i_max = max(d['inds']) if d['inds'] else -1\n",
    "    if n is None:\n",
    "        n = i_max+1\n",
    "    else:\n",
    "        assert n > i_max, \"Bad value for full vector length\"\n",
    "    \n",
    "    result = [0]*n\n",
    "    for i, v in zip(d['inds'], d['vals']):\n",
    "        result[i] += v\n",
    "    return result"
   ]
  },
  {
   "cell_type": "code",
   "execution_count": null,
   "metadata": {},
   "outputs": [],
   "source": [
    "def find_common_inds(d1, d2):\n",
    "    assert type(d1) is dict and 'inds' in d1 and 'vals' in d1\n",
    "    assert type(d2) is dict and 'inds' in d2 and 'vals' in d2\n",
    "\n",
    "    return list(set(d1['inds']).intersection(set(d2['inds'])))"
   ]
  },
  {
   "cell_type": "code",
   "execution_count": null,
   "metadata": {},
   "outputs": [],
   "source": []
  },
  {
   "cell_type": "code",
   "execution_count": null,
   "metadata": {},
   "outputs": [],
   "source": []
  }
 ],
 "metadata": {
  "language_info": {
   "name": "python"
  },
  "orig_nbformat": 4
 },
 "nbformat": 4,
 "nbformat_minor": 2
}
